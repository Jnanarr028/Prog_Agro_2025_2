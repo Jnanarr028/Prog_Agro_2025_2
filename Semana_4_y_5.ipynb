{
  "nbformat": 4,
  "nbformat_minor": 0,
  "metadata": {
    "colab": {
      "provenance": [],
      "authorship_tag": "ABX9TyOI8Qp8k9ibEFPqsYQ8VlEy",
      "include_colab_link": true
    },
    "kernelspec": {
      "name": "python3",
      "display_name": "Python 3"
    },
    "language_info": {
      "name": "python"
    }
  },
  "cells": [
    {
      "cell_type": "markdown",
      "metadata": {
        "id": "view-in-github",
        "colab_type": "text"
      },
      "source": [
        "<a href=\"https://colab.research.google.com/github/Jnanarr028/Prog_Agro_2025_2/blob/main/Semana_4_y_5.ipynb\" target=\"_parent\"><img src=\"https://colab.research.google.com/assets/colab-badge.svg\" alt=\"Open In Colab\"/></a>"
      ]
    },
    {
      "cell_type": "code",
      "execution_count": null,
      "metadata": {
        "id": "kl5jbJ3JvkFe"
      },
      "outputs": [],
      "source": []
    },
    {
      "cell_type": "markdown",
      "metadata": {
        "id": "048fe747"
      },
      "source": [
        "## Funciones en Python\n",
        "\n",
        "*   **Definición:** Son bloques de código reutilizables que realizan una tarea específica. Se definen usando la palabra clave `def`.\n",
        "*   **Uso:** Las funciones se definen una vez y se pueden llamar (ejecutar) múltiples veces desde diferentes partes del programa. Esto evita tener que escribir el mismo código repetidamente. Las funciones pueden aceptar argumentos (valores de entrada) y devolver resultados (valores de salida).\n",
        "*   **Importancia:**\n",
        "    *   **Modularidad:** Permiten dividir un programa grande en partes más pequeñas y manejables, lo que facilita su comprensión y desarrollo.\n",
        "    *   **Reutilización de código:** Al definir una tarea en una función, puedes usarla en diferentes lugares sin reescribir el código.\n",
        "    *   **Organización:** Hacen que el código sea más legible y estructurado.\n",
        "    *   **Abstracción:** Permiten ocultar los detalles internos de una tarea y enfocarse en lo que la función hace.\n",
        "    *   **Facilitan la depuración:** Es más fácil encontrar y corregir errores en funciones pequeñas y específicas.\n",
        "    *   **Mantenimiento:** Modificar o actualizar una tarea es más sencillo si está encapsulada en una función."
      ]
    },
    {
      "cell_type": "markdown",
      "metadata": {
        "id": "250d3a78"
      },
      "source": [
        "## Listas, Tuplas y Diccionarios en Python\n",
        "\n",
        "### Listas (`list`)\n",
        "*   **Definición:** Son colecciones ordenadas y mutables de elementos. Pueden contener elementos de diferentes tipos de datos. Se definen usando corchetes `[]`.\n",
        "*   **Características:**\n",
        "    *   Ordenadas: Los elementos tienen un índice.\n",
        "    *   Mutables: Se pueden modificar (agregar, eliminar, cambiar elementos) después de su creación.\n",
        "    *   Permiten duplicados.\n",
        "\n",
        "### Tuplas (`tuple`)\n",
        "*   **Definición:** Son colecciones ordenadas e inmutables de elementos. Pueden contener elementos de diferentes tipos de datos. Se definen usando paréntesis `()`.\n",
        "*   **Características:**\n",
        "    *   Ordenadas: Los elementos tienen un índice.\n",
        "    *   Inmutables: No se pueden modificar después de su creación.\n",
        "    *   Permiten duplicados.\n",
        "\n",
        "### Diccionarios (`dict`)\n",
        "*   **Definición:** Son colecciones desordenadas y mutables de pares clave-valor. Cada clave debe ser única e inmutable. Se definen usando llaves `{}` con pares `clave: valor`.\n",
        "*   **Características:**\n",
        "    *   Desordenadas (en versiones anteriores a Python 3.7, a partir de 3.7 son ordenados por inserción).\n",
        "    *   Mutables: Se pueden modificar (agregar, eliminar, cambiar pares clave-valor).\n",
        "    *   Las claves son únicas.\n",
        "\n",
        "### Similitudes y Diferencias\n",
        "\n",
        "*   **Similitudes:**\n",
        "    *   Las listas y tuplas son colecciones ordenadas y acceden a los elementos por índice.\n",
        "    *   Las listas y diccionarios son mutables.\n",
        "    *   Las listas y tuplas permiten elementos duplicados.\n",
        "    *   Pueden contener elementos de diferentes tipos de datos.\n",
        "\n",
        "*   **Diferencias:**\n",
        "    *   **Mutabilidad:** Listas y Diccionarios son mutables, Tuplas son inmutables.\n",
        "    *   **Orden:** Listas y Tuplas son ordenadas por índice, Diccionarios son ordenados por inserción a partir de Python 3.7 (antes desordenados) y acceden a los elementos por clave.\n",
        "    *   **Estructura:** Listas y Tuplas almacenan elementos, Diccionarios almacenan pares clave-valor.\n",
        "\n",
        "## Funciones en Python\n",
        "\n",
        "*   **Definición:** Son bloques de código reutilizables que realizan una tarea específica. Se definen usando la palabra clave `def`.\n",
        "*   **Utilidad:**\n",
        "    *   **Modularidad:** Permiten dividir un programa grande en partes más pequeñas y manejables.\n",
        "    *   **Reutilización de código:** Evitan la repetición de código.\n",
        "    *   **Organización:** Hacen que el código sea más legible y fácil de mantener.\n",
        "    *   **Abstracción:** Permiten ocultar los detalles de implementación y enfocarse en la tarea que realiza la función.\n",
        "    *   **Facilitan la depuración:** Es más fácil encontrar y corregir errores en funciones pequeñas."
      ]
    },
    {
      "cell_type": "markdown",
      "source": [
        "# Situación de Interés en Ingeniería Agrícola\n",
        " Un agrónomo consultor necesita una herramienta\n",
        " rápida para aconsejar a los agricultores sobre qué cultivos sembrar. Se requiere un programa que 1 almacene información de varios cultivos (nombre, mes ideal de siembra, necesidad de agua) y que, al ingresar el nombre de un mes, recomiende qué cultivos son adecuados para sembrar en ese período.\n",
        "\n",
        " Caso de Ingeniería Agrícola: Planificador de Cultivos (Listas y Funciones)\n",
        " • Paso a Paso del Código:\n",
        " 1. Crear una lista donde cada elemento sea un diccionario. Cada diccionario representará un\n",
        " cultivo y tendrá claves como nombre, mes_siembra y riego.\n",
        " 2. Crear una función llamada recomendar_cultivos. Esta función recibirá dos parámetros: la\n",
        " lista completa de cultivos y el mes actual.\n",
        " 3. Dentro de la función, usar un bucle for para recorrer la lista de cultivos.\n",
        " 4. En cada iteración, usar un if para comprobar si el mes_siembra del cultivo coincide con el mes\n",
        " proporcionado.\n",
        " 5. Si coinciden, añadir el nombre del cultivo a una nueva lista de recomendados.\n",
        " 6. Al final, la función debe devolver la lista de cultivos recomendados.\n",
        " 7. En el programa principal, pedir al usuario el mes y llamar a la función para obtener e imprimir\n",
        " las recomendaciones."
      ],
      "metadata": {
        "id": "hH2rBi8r1fl_"
      }
    },
    {
      "cell_type": "markdown",
      "metadata": {
        "id": "7dc3f571"
      },
      "source": [
        "Aquí te presento la explicación de cada fragmento del código del planificador de cultivos:\n",
        "\n",
        "1.  **Creación de la lista de cultivos:**"
      ]
    },
    {
      "cell_type": "code",
      "metadata": {
        "id": "985deaa2"
      },
      "source": [
        "    def recomendar_cultivos(lista_cultivos, mes_actual):\n",
        "        \"\"\"\n",
        "        Recomienda cultivos adecuados para sembrar en un mes dado.\n",
        "\n",
        "        Args:\n",
        "            lista_cultivos: Lista de diccionarios con información de los cultivos.\n",
        "            mes_actual: Nombre del mes para el que se buscan recomendaciones.\n",
        "\n",
        "        Returns:\n",
        "            Una lista con los nombres de los cultivos recomendados para el mes dado.\n",
        "        \"\"\"\n",
        "        recomendados = []\n",
        "        # ... (código dentro de la función) ...\n",
        "        return recomendados"
      ],
      "execution_count": null,
      "outputs": []
    },
    {
      "cell_type": "code",
      "metadata": {
        "id": "bae561f1"
      },
      "source": [
        "    for cultivo in lista_cultivos:\n",
        "        # ... (código dentro del bucle) ..."
      ],
      "execution_count": null,
      "outputs": []
    },
    {
      "cell_type": "code",
      "metadata": {
        "id": "39d0cf79"
      },
      "source": [
        "    if cultivo[\"mes_siembra\"].lower() == mes_actual.lower():\n",
        "        # ... (código dentro del if) ..."
      ],
      "execution_count": null,
      "outputs": []
    },
    {
      "cell_type": "code",
      "metadata": {
        "id": "5ac40a07"
      },
      "source": [
        "    recomendados.append(cultivo[\"nombre\"])"
      ],
      "execution_count": null,
      "outputs": []
    },
    {
      "cell_type": "code",
      "metadata": {
        "id": "f5b66429"
      },
      "source": [
        "    return recomendados"
      ],
      "execution_count": null,
      "outputs": []
    },
    {
      "cell_type": "code",
      "metadata": {
        "id": "6c1a5f46"
      },
      "source": [
        "    mes_ingresado = input(\"Introduce el nombre del mes actual (ej. Enero): \")\n",
        "\n",
        "    recomendaciones = recomendar_cultivos(cultivos, mes_ingresado)"
      ],
      "execution_count": null,
      "outputs": []
    },
    {
      "cell_type": "code",
      "metadata": {
        "id": "49416bc8"
      },
      "source": [
        "    if recomendaciones:\n",
        "        print(f\"\\nCultivos recomendados para sembrar en {mes_ingresado}:\")\n",
        "        for cultivo_recomendado in recomendaciones:\n",
        "            print(f\"- {cultivo_recomendado}\")\n",
        "    else:\n",
        "        print(f\"\\nNo hay cultivos recomendados para sembrar en {mes_ingresado} en nuestra base de datos.\")"
      ],
      "execution_count": null,
      "outputs": []
    },
    {
      "cell_type": "markdown",
      "metadata": {
        "id": "12974b77"
      },
      "source": [
        "```python\n",
        "# 1. Crear una lista donde cada elemento sea un diccionario con información de cultivos.\n",
        "cultivos = [\n",
        "    {\"nombre\": \"Maíz\", \"mes_siembra\": \"Abril\", \"riego\": \"Alto\"},\n",
        "    {\"nombre\": \"Trigo\", \"mes_siembra\": \"Octubre\", \"riego\": \"Medio\"},\n",
        "    {\"nombre\": \"Girasol\", \"mes_siembra\": \"Marzo\", \"riego\": \"Medio\"},\n",
        "    {\"nombre\": \"Soja\", \"mes_siembra\": \"Noviembre\", \"riego\": \"Alto\"},\n",
        "    {\"nombre\": \"Arroz\", \"mes_siembra\": \"Mayo\", \"riego\": \"Muy Alto\"},\n",
        "    {\"nombre\": \"Cebada\", \"mes_siembra\": \"Septiembre\", \"riego\": \"Medio\"},\n",
        "    {\"nombre\": \"Algodón\", \"mes_siembra\": \"Mayo\", \"riego\": \"Alto\"},\n",
        "]\n",
        "\n",
        "# 2. Crear una función llamada recomendar_cultivos.\n",
        "def recomendar_cultivos(lista_cultivos, mes_actual):\n",
        "    \"\"\"\n",
        "    Recomienda cultivos adecuados para sembrar en un mes dado.\n",
        "\n",
        "    Args:\n",
        "        lista_cultivos: Lista de diccionarios con información de los cultivos.\n",
        "        mes_actual: Nombre del mes para el que se buscan recomendaciones.\n",
        "\n",
        "    Returns:\n",
        "        Una lista con los nombres de los cultivos recomendados para el mes dado.\n",
        "    \"\"\"\n",
        "    recomendados = []\n",
        "    # 3. Usar un bucle for para recorrer la lista de cultivos.\n",
        "    for cultivo in lista_cultivos:\n",
        "        # 4. Usar un if para comprobar si el mes_siembra coincide.\n",
        "        if cultivo[\"mes_siembra\"].lower() == mes_actual.lower():\n",
        "            # 5. Si coinciden, añadir el nombre del cultivo a la lista de recomendados.\n",
        "            recomendados.append(cultivo[\"nombre\"])\n",
        "    # 6. La función debe devolver la lista de cultivos recomendados.\n",
        "    return recomendados\n",
        "\n",
        "# 7. En el programa principal, pedir al usuario el mes y llamar a la función.\n",
        "mes_ingresado = input(\"Introduce el nombre del mes actual (ej. Enero): \")\n",
        "\n",
        "recomendaciones = recomendar_cultivos(cultivos, mes_ingresado)\n",
        "\n",
        "# Imprimir las recomendaciones.\n",
        "if recomendaciones:\n",
        "    print(f\"\\nCultivos recomendados para sembrar en {mes_ingresado}:\")\n",
        "    for cultivo_recomendado in recomendaciones:\n",
        "        print(f\"- {cultivo_recomendado}\")\n",
        "else:\n",
        "    print(f\"\\nNo hay cultivos recomendados para sembrar en {mes_ingresado} en nuestra base de datos.\")"
      ]
    },
    {
      "cell_type": "code",
      "metadata": {
        "colab": {
          "base_uri": "https://localhost:8080/"
        },
        "id": "25f4fb8a",
        "outputId": "b92be181-5714-4538-9008-4eb38843ffee"
      },
      "source": [
        "# 1. Crear una lista donde cada elemento sea un diccionario con información de cultivos.\n",
        "cultivos = [\n",
        "    {\"nombre\": \"Maíz\", \"mes_siembra\": \"Abril\", \"riego\": \"Alto\"},\n",
        "    {\"nombre\": \"Trigo\", \"mes_siembra\": \"Octubre\", \"riego\": \"Medio\"},\n",
        "    {\"nombre\": \"Girasol\", \"mes_siembra\": \"Marzo\", \"riego\": \"Medio\"},\n",
        "    {\"nombre\": \"Soja\", \"mes_siembra\": \"Noviembre\", \"riego\": \"Alto\"},\n",
        "    {\"nombre\": \"Arroz\", \"mes_siembra\": \"Mayo\", \"riego\": \"Muy Alto\"},\n",
        "    {\"nombre\": \"Cebada\", \"mes_siembra\": \"Septiembre\", \"riego\": \"Medio\"},\n",
        "    {\"nombre\": \"Algodón\", \"mes_siembra\": \"Mayo\", \"riego\": \"Alto\"},\n",
        "]\n",
        "\n",
        "# 2. Crear una función llamada recomendar_cultivos.\n",
        "def recomendar_cultivos(lista_cultivos, mes_actual):\n",
        "    \"\"\"\n",
        "    Recomienda cultivos adecuados para sembrar en un mes dado.\n",
        "\n",
        "    Args:\n",
        "        lista_cultivos: Lista de diccionarios con información de los cultivos.\n",
        "        mes_actual: Nombre del mes para el que se buscan recomendaciones.\n",
        "\n",
        "    Returns:\n",
        "        Una lista con los nombres de los cultivos recomendados para el mes dado.\n",
        "    \"\"\"\n",
        "    recomendados = []\n",
        "    # 3. Usar un bucle for para recorrer la lista de cultivos.\n",
        "    for cultivo in lista_cultivos:\n",
        "        # 4. Usar un if para comprobar si el mes_siembra coincide.\n",
        "        if cultivo[\"mes_siembra\"].lower() == mes_actual.lower():\n",
        "            # 5. Si coinciden, añadir el nombre del cultivo a la lista de recomendados.\n",
        "            recomendados.append(cultivo[\"nombre\"])\n",
        "    # 6. La función debe devolver la lista de cultivos recomendados.\n",
        "    return recomendados\n",
        "\n",
        "# 7. En el programa principal, pedir al usuario el mes y llamar a la función.\n",
        "mes_ingresado = input(\"Introduce el nombre del mes actual (ej. Enero): \")\n",
        "\n",
        "recomendaciones = recomendar_cultivos(cultivos, mes_ingresado)\n",
        "\n",
        "# Imprimir las recomendaciones.\n",
        "if recomendaciones:\n",
        "    print(f\"\\nCultivos recomendados para sembrar en {mes_ingresado}:\")\n",
        "    for cultivo_recomendado in recomendaciones:\n",
        "        print(f\"- {cultivo_recomendado}\")\n",
        "else:\n",
        "    print(f\"\\nNo hay cultivos recomendados para sembrar en {mes_ingresado} en nuestra base de datos.\")"
      ],
      "execution_count": 2,
      "outputs": [
        {
          "output_type": "stream",
          "name": "stdout",
          "text": [
            "Introduce el nombre del mes actual (ej. Enero): septiembre\n",
            "\n",
            "Cultivos recomendados para sembrar en septiembre:\n",
            "- Cebada\n"
          ]
        }
      ]
    },
    {
      "cell_type": "markdown",
      "source": [
        " # Situación 2: Función para Validar Parámetros de Calidad\n",
        "\n",
        " Una planta recibe lotes de fruta y debe\n",
        " validar si cumplen con los parámetros de pH y grados Brix para ser aceptados. Crearás una función que\n",
        " centralice esta lógica de validación.\n",
        " • Paso a Paso del Código (Guía para el Notebook)\n",
        " 1. # Definir una función 'validar_lote' que tome dos parámetros: 'ph' y 'brix'.\n",
        " 2. # Dentro de la función, usar una estructura 'if' para verificar si el pH está\n",
        " entre 3.5 y 4.5 Y si los grados Brix son mayores a 12.\n",
        " 3. # Si ambas condiciones se cumplen, la función debe devolver el valor booleano\n",
        " True.\n",
        " 4. # De lo contrario (else), la función debe devolver el valor booleano False.\n",
        " 5. # En el programa principal, pedir al usuario el pH y los grados Brix del lote\n",
        " actual.\n",
        " 6. # Llamar a la función 'validar_lote' con los datos ingresados y guardar el\n",
        " resultado (True/False) en una variable.\n",
        " 7. # Usar un 'if' en el programa principal para comprobar el valor de esa variable.\n",
        " 8. # Si la variable es True, imprimir \"Lote APROBADO\". Si es False, imprimir \"Lote\n",
        " RECHAZADO\"."
      ],
      "metadata": {
        "id": "Q-eLp0N66DVs"
      }
    },
    {
      "cell_type": "code",
      "metadata": {
        "colab": {
          "base_uri": "https://localhost:8080/"
        },
        "id": "d1a6491a",
        "outputId": "dea5459d-7d60-4003-89b5-741f80030eed"
      },
      "source": [
        "# 1. Definir una función 'validar_lote' que tome dos parámetros: 'ph' y 'brix'.\n",
        "def validar_lote(ph, brix):\n",
        "    \"\"\"\n",
        "    Valida si un lote de fruta cumple con los parámetros de calidad.\n",
        "\n",
        "    Args:\n",
        "        ph: Nivel de pH del lote.\n",
        "        brix: Grados Brix del lote.\n",
        "\n",
        "    Returns:\n",
        "        True si el lote es aprobado, False en caso contrario.\n",
        "    \"\"\"\n",
        "    # 2. Dentro de la función, usar una estructura 'if' para verificar si el pH está\n",
        "    #    entre 3.5 y 4.5 Y si los grados Brix son mayores a 12.\n",
        "    if 3.5 <= ph <= 4.5 and brix > 12:\n",
        "        # 3. Si ambas condiciones se cumplen, la función debe devolver el valor booleano True.\n",
        "        return True\n",
        "    else:\n",
        "        # 4. De lo contrario (else), la función debe devolver el valor booleano False.\n",
        "        return False\n",
        "\n",
        "# 5. En el programa principal, pedir al usuario el pH y los grados Brix del lote actual.\n",
        "try:\n",
        "    ph_ingresado = float(input(\"Introduce el nivel de pH del lote: \"))\n",
        "    brix_ingresados = float(input(\"Introduce los grados Brix del lote: \"))\n",
        "\n",
        "    # 6. Llamar a la función 'validar_lote' con los datos ingresados y guardar el\n",
        "    #    resultado (True/False) en una variable.\n",
        "    aprobado = validar_lote(ph_ingresado, brix_ingresados)\n",
        "\n",
        "    # 7. Usar un 'if' en el programa principal para comprobar el valor de esa variable.\n",
        "    # 8. Si la variable es True, imprimir \"Lote APROBADO\". Si es False, imprimir \"Lote RECHAZADO\".\n",
        "    if aprobado:\n",
        "        print(\"\\nLote APROBADO\")\n",
        "    else:\n",
        "        print(\"\\nLote RECHAZADO\")\n",
        "\n",
        "except ValueError:\n",
        "    print(\"\\nEntrada inválida. Por favor, introduce valores numéricos para pH y Brix.\")"
      ],
      "execution_count": 5,
      "outputs": [
        {
          "output_type": "stream",
          "name": "stdout",
          "text": [
            "Introduce el nivel de pH del lote: 4.2\n",
            "Introduce los grados Brix del lote: 13\n",
            "\n",
            "Lote APROBADO\n"
          ]
        }
      ]
    },
    {
      "cell_type": "markdown",
      "metadata": {
        "id": "f93f5601"
      },
      "source": [
        "## `try` y `except` en Python: Manejo de Errores\n",
        "\n",
        "En Python, los bloques `try` y `except` se utilizan para manejar errores que pueden ocurrir durante la ejecución de un programa. Este mecanismo se conoce como manejo de excepciones.\n",
        "\n",
        "*   **`try`:** El bloque `try` contiene el código que *podría* generar una excepción (un error). Python intentará ejecutar el código dentro de este bloque.\n",
        "*   **`except`:** Si ocurre una excepción en el bloque `try`, Python detiene la ejecución del código en el `try` y busca un bloque `except` que pueda manejar ese tipo específico de excepción. El código dentro del bloque `except` se ejecutará solo si ocurre la excepción correspondiente en el bloque `try`.\n",
        "\n",
        "**¿Por qué son útiles?**\n",
        "\n",
        "*   **Evitar que el programa se detenga abruptamente:** Cuando ocurre un error no manejado, el programa se \"crashea\" y deja de funcionar. `try...except` permite \"capturar\" esos errores y ejecutar código alternativo para que el programa pueda continuar o salir de manera controlada.\n",
        "*   **Manejar situaciones inesperadas:** Puedes anticipar ciertos tipos de errores (como que el usuario ingrese texto cuando se espera un número, un archivo que no existe, etc.) y proporcionar una respuesta adecuada en lugar de que el programa falle.\n",
        "*   **Facilitar la depuración:** Al manejar excepciones, puedes imprimir mensajes de error útiles o registrar información para entender qué salió mal.\n",
        "\n",
        "**Ejemplo simple:**"
      ]
    },
    {
      "cell_type": "markdown",
      "metadata": {
        "id": "5483501a"
      },
      "source": [
        "Aquí te presento la explicación de cada fragmento del código de validación de lotes de fruta:\n",
        "\n",
        "1.  **Definición de la función `validar_lote`:**"
      ]
    },
    {
      "cell_type": "code",
      "metadata": {
        "id": "19cd0a4d"
      },
      "source": [
        "# 1. Definir una función 'validar_lote' que tome dos parámetros: 'ph' y 'brix'.\n",
        "def validar_lote(ph, brix):\n",
        "    \"\"\"\n",
        "    Valida si un lote de fruta cumple con los parámetros de calidad.\n",
        "\n",
        "    Args:\n",
        "        ph: Nivel de pH del lote.\n",
        "        brix: Grados Brix del lote.\n",
        "\n",
        "    Returns:\n",
        "        True si el lote es aprobado, False en caso contrario.\n",
        "    \"\"\"\n",
        "    # ... (código dentro de la función) ..."
      ],
      "execution_count": null,
      "outputs": []
    },
    {
      "cell_type": "markdown",
      "metadata": {
        "id": "faa35458"
      },
      "source": [
        "    Esta línea define una función llamada `validar_lote` que acepta dos argumentos: `ph` y `brix`. La cadena de texto multilinea (`\"\"\"...\"\"\"`) es un \"docstring\" que explica brevemente qué hace la función, sus argumentos y qué devuelve.\n",
        "\n",
        "2.  **Verificación de las condiciones de pH y Brix:**"
      ]
    },
    {
      "cell_type": "code",
      "metadata": {
        "id": "0b4b304d"
      },
      "source": [
        "    if 3.5 <= ph <= 4.5 and brix > 12:\n",
        "        # 3. Si ambas condiciones se cumplen, la función debe devolver el valor booleano True.\n",
        "        return True\n",
        "    else:\n",
        "        # 4. De lo contrario (else), la función debe devolver el valor booleano False.\n",
        "        return False"
      ],
      "execution_count": null,
      "outputs": []
    },
    {
      "cell_type": "markdown",
      "metadata": {
        "id": "34f297fb"
      },
      "source": [
        "    Este bloque `if` verifica si el valor de `ph` está entre 3.5 y 4.5 (inclusive) *y* si el valor de `brix` es mayor que 12.\n",
        "    *   Si ambas condiciones son verdaderas (`True`), la función devuelve `True`, indicando que el lote es aprobado.\n",
        "    *   Si alguna de las condiciones es falsa (`False`), el `else` se ejecuta y la función devuelve `False`, indicando que el lote es rechazado.\n",
        "\n",
        "3.  **Solicitud de entrada al usuario y manejo de errores:**"
      ]
    },
    {
      "cell_type": "code",
      "metadata": {
        "id": "44ee850e"
      },
      "source": [
        "# 5. En el programa principal, pedir al usuario el pH y los grados Brix del lote actual.\n",
        "try:\n",
        "    ph_ingresado = float(input(\"Introduce el nivel de pH del lote: \"))\n",
        "    brix_ingresados = float(input(\"Introduce los grados Brix del lote: \"))\n",
        "\n",
        "    # ... (código para llamar a la función y imprimir el resultado) ...\n",
        "\n",
        "except ValueError:\n",
        "    print(\"\\nEntrada inválida. Por favor, introduce valores numéricos para pH y Brix.\")"
      ],
      "execution_count": null,
      "outputs": []
    },
    {
      "cell_type": "markdown",
      "metadata": {
        "id": "92faf13f"
      },
      "source": [
        "    Este bloque solicita al usuario que introduzca el pH y los grados Brix del lote.\n",
        "    *   `input()` lee la entrada del usuario como texto.\n",
        "    *   `float()` intenta convertir ese texto a un número decimal.\n",
        "    *   El bloque `try...except ValueError` maneja el caso en que el usuario ingrese algo que no sea un número, imprimiendo un mensaje de error.\n",
        "\n",
        "4.  **Llamada a la función y almacenamiento del resultado:**"
      ]
    },
    {
      "cell_type": "code",
      "metadata": {
        "id": "c3bc5007"
      },
      "source": [
        "    # 6. Llamar a la función 'validar_lote' con los datos ingresados y guardar el\n",
        "    #    resultado (True/False) en una variable.\n",
        "    aprobado = validar_lote(ph_ingresado, brix_ingresados)"
      ],
      "execution_count": null,
      "outputs": []
    },
    {
      "cell_type": "markdown",
      "metadata": {
        "id": "04a325e4"
      },
      "source": [
        "    Aquí se llama a la función `validar_lote` pasando los valores ingresados por el usuario (`ph_ingresado` y `brix_ingresados`). El valor booleano que devuelve la función (`True` o `False`) se almacena en la variable `aprobado`.\n",
        "\n",
        "5.  **Imprimir el resultado de la validación:**"
      ]
    },
    {
      "cell_type": "code",
      "metadata": {
        "id": "4fdbc04f"
      },
      "source": [
        "    # 7. Usar un 'if' en el programa principal para comprobar el valor de esa variable.\n",
        "    # 8. Si la variable es True, imprimir \"Lote APROBADO\". Si es False, imprimir \"Lote RECHAZADO\".\n",
        "    if aprobado:\n",
        "        print(\"\\nLote APROBADO\")\n",
        "    else:\n",
        "        print(\"\\nLote RECHAZADO\")"
      ],
      "execution_count": null,
      "outputs": []
    },
    {
      "cell_type": "markdown",
      "metadata": {
        "id": "3fa60cb6"
      },
      "source": [
        "    Finalmente, este bloque `if` verifica el valor de la variable `aprobado`.\n",
        "    *   Si `aprobado` es `True`, imprime \"Lote APROBADO\".\n",
        "    *   Si `aprobado` es `False`, imprime \"Lote RECHAZADO\"."
      ]
    },
    {
      "cell_type": "markdown",
      "source": [
        "# Ingeniería Agroindustrial Situación 1: Ficha Técnica de un Producto\n",
        "Se necesita un programa para almacenar y mostrar la\n",
        " información clave de un producto alimenticio, como su nombre, lote, fecha de vencimiento y porcentaje de\n",
        " humedad. Un diccionario es perfecto para esto, ya que cada dato tiene una etiqueta clara.\n",
        "\n",
        " • Paso a Paso del Código (Guía para el Notebook)\n",
        " 1. # Crear un diccionario vacío llamado 'ficha_producto'.\n",
        " 2. # Pedir al usuario el nombre del producto y guardarlo en el diccionario con la\n",
        " clave 'nombre'.\n",
        " 3. # Pedir el número de lote y guardarlo con la clave 'lote'.\n",
        " 4. # Pedir la fecha de vencimiento y guardarla con la clave 'vencimiento'.\n",
        " 5. # Pedir el porcentaje de humedad y guardarlo con la clave 'humedad'.\n",
        " 6. # Mostrar un encabezado que diga \"--- Ficha Técnica del Producto---\".\n",
        " 7. # Imprimir cada uno de los valores del diccionario accediendo a ellos a través\n",
        " de sus claves (ej. ficha_producto['nombre'])."
      ],
      "metadata": {
        "id": "zhDgDVjO9OwY"
      }
    },
    {
      "cell_type": "code",
      "source": [],
      "metadata": {
        "id": "tZOsjl-h9q2g"
      },
      "execution_count": null,
      "outputs": []
    },
    {
      "cell_type": "code",
      "metadata": {
        "colab": {
          "base_uri": "https://localhost:8080/"
        },
        "id": "dd94585a",
        "outputId": "57080606-7f25-40c4-9b09-5e79ccf4276b"
      },
      "source": [
        "# 1. Crear un diccionario vacío llamado 'ficha_producto'.\n",
        "# 2-7. Modificar para solicitar datos indefinidamente hasta que el usuario decida finalizar.\n",
        "\n",
        "while True:\n",
        "    ficha_producto = {}\n",
        "    print(\"\\n--- Ingreso de datos para nueva Ficha Técnica (escribe 'fin' en el nombre para terminar) ---\")\n",
        "\n",
        "    nombre_producto = input(\"Introduce el nombre del producto: \")\n",
        "    if nombre_producto.lower() == 'fin':\n",
        "        break\n",
        "    ficha_producto['nombre'] = nombre_producto\n",
        "\n",
        "    numero_lote = input(\"Introduce el número de lote: \")\n",
        "    ficha_producto['lote'] = numero_lote\n",
        "\n",
        "    fecha_vencimiento = input(\"Introduce la fecha de vencimiento (DD/MM/AAAA): \")\n",
        "    ficha_producto['vencimiento'] = fecha_vencimiento\n",
        "\n",
        "    porcentaje_humedad = input(\"Introduce el porcentaje de humedad (%): \")\n",
        "    ficha_producto['humedad'] = porcentaje_humedad\n",
        "\n",
        "    # Mostrar la ficha técnica del producto ingresado\n",
        "    print(\"\\n--- Ficha Técnica del Producto---\")\n",
        "    print(f\"Nombre: {ficha_producto['nombre']}\")\n",
        "    print(f\"Lote: {ficha_producto['lote']}\")\n",
        "    print(f\"Fecha de vencimiento: {ficha_producto['vencimiento']}\")\n",
        "    print(f\"Humedad: {ficha_producto['humedad']}\")"
      ],
      "execution_count": 7,
      "outputs": [
        {
          "name": "stdout",
          "output_type": "stream",
          "text": [
            "\n",
            "--- Ingreso de datos para nueva Ficha Técnica (escribe 'fin' en el nombre para terminar) ---\n",
            "Introduce el nombre del producto: mango\n",
            "Introduce el número de lote: 123\n",
            "Introduce la fecha de vencimiento (DD/MM/AAAA): 17/12/2027\n",
            "Introduce el porcentaje de humedad (%): 67\n",
            "\n",
            "--- Ficha Técnica del Producto---\n",
            "Nombre: mango\n",
            "Lote: 123\n",
            "Fecha de vencimiento: 17/12/2027\n",
            "Humedad: 67\n",
            "\n",
            "--- Ingreso de datos para nueva Ficha Técnica (escribe 'fin' en el nombre para terminar) ---\n",
            "Introduce el nombre del producto: yuca\n",
            "Introduce el número de lote: 56\n",
            "Introduce la fecha de vencimiento (DD/MM/AAAA): 20/08/2026\n",
            "Introduce el porcentaje de humedad (%): 80\n",
            "\n",
            "--- Ficha Técnica del Producto---\n",
            "Nombre: yuca\n",
            "Lote: 56\n",
            "Fecha de vencimiento: 20/08/2026\n",
            "Humedad: 80\n",
            "\n",
            "--- Ingreso de datos para nueva Ficha Técnica (escribe 'fin' en el nombre para terminar) ---\n",
            "Introduce el nombre del producto: fin\n"
          ]
        }
      ]
    },
    {
      "cell_type": "code",
      "source": [],
      "metadata": {
        "id": "QyNvHooZ_r8X"
      },
      "execution_count": null,
      "outputs": []
    }
  ]
}