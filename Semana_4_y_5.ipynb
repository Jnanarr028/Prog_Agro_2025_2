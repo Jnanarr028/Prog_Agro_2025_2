{
  "nbformat": 4,
  "nbformat_minor": 0,
  "metadata": {
    "colab": {
      "provenance": [],
      "authorship_tag": "ABX9TyNrd24zUdIZuv0X8e6ailaI",
      "include_colab_link": true
    },
    "kernelspec": {
      "name": "python3",
      "display_name": "Python 3"
    },
    "language_info": {
      "name": "python"
    }
  },
  "cells": [
    {
      "cell_type": "markdown",
      "metadata": {
        "id": "view-in-github",
        "colab_type": "text"
      },
      "source": [
        "<a href=\"https://colab.research.google.com/github/Jnanarr028/Prog_Agro_2025_2/blob/main/Semana_4_y_5.ipynb\" target=\"_parent\"><img src=\"https://colab.research.google.com/assets/colab-badge.svg\" alt=\"Open In Colab\"/></a>"
      ]
    },
    {
      "cell_type": "code",
      "execution_count": null,
      "metadata": {
        "id": "kl5jbJ3JvkFe"
      },
      "outputs": [],
      "source": []
    },
    {
      "cell_type": "markdown",
      "metadata": {
        "id": "048fe747"
      },
      "source": [
        "## Funciones en Python\n",
        "\n",
        "*   **Definición:** Son bloques de código reutilizables que realizan una tarea específica. Se definen usando la palabra clave `def`.\n",
        "*   **Uso:** Las funciones se definen una vez y se pueden llamar (ejecutar) múltiples veces desde diferentes partes del programa. Esto evita tener que escribir el mismo código repetidamente. Las funciones pueden aceptar argumentos (valores de entrada) y devolver resultados (valores de salida).\n",
        "*   **Importancia:**\n",
        "    *   **Modularidad:** Permiten dividir un programa grande en partes más pequeñas y manejables, lo que facilita su comprensión y desarrollo.\n",
        "    *   **Reutilización de código:** Al definir una tarea en una función, puedes usarla en diferentes lugares sin reescribir el código.\n",
        "    *   **Organización:** Hacen que el código sea más legible y estructurado.\n",
        "    *   **Abstracción:** Permiten ocultar los detalles internos de una tarea y enfocarse en lo que la función hace.\n",
        "    *   **Facilitan la depuración:** Es más fácil encontrar y corregir errores en funciones pequeñas y específicas.\n",
        "    *   **Mantenimiento:** Modificar o actualizar una tarea es más sencillo si está encapsulada en una función."
      ]
    },
    {
      "cell_type": "markdown",
      "metadata": {
        "id": "250d3a78"
      },
      "source": [
        "## Listas, Tuplas y Diccionarios en Python\n",
        "\n",
        "### Listas (`list`)\n",
        "*   **Definición:** Son colecciones ordenadas y mutables de elementos. Pueden contener elementos de diferentes tipos de datos. Se definen usando corchetes `[]`.\n",
        "*   **Características:**\n",
        "    *   Ordenadas: Los elementos tienen un índice.\n",
        "    *   Mutables: Se pueden modificar (agregar, eliminar, cambiar elementos) después de su creación.\n",
        "    *   Permiten duplicados.\n",
        "\n",
        "### Tuplas (`tuple`)\n",
        "*   **Definición:** Son colecciones ordenadas e inmutables de elementos. Pueden contener elementos de diferentes tipos de datos. Se definen usando paréntesis `()`.\n",
        "*   **Características:**\n",
        "    *   Ordenadas: Los elementos tienen un índice.\n",
        "    *   Inmutables: No se pueden modificar después de su creación.\n",
        "    *   Permiten duplicados.\n",
        "\n",
        "### Diccionarios (`dict`)\n",
        "*   **Definición:** Son colecciones desordenadas y mutables de pares clave-valor. Cada clave debe ser única e inmutable. Se definen usando llaves `{}` con pares `clave: valor`.\n",
        "*   **Características:**\n",
        "    *   Desordenadas (en versiones anteriores a Python 3.7, a partir de 3.7 son ordenados por inserción).\n",
        "    *   Mutables: Se pueden modificar (agregar, eliminar, cambiar pares clave-valor).\n",
        "    *   Las claves son únicas.\n",
        "\n",
        "### Similitudes y Diferencias\n",
        "\n",
        "*   **Similitudes:**\n",
        "    *   Las listas y tuplas son colecciones ordenadas y acceden a los elementos por índice.\n",
        "    *   Las listas y diccionarios son mutables.\n",
        "    *   Las listas y tuplas permiten elementos duplicados.\n",
        "    *   Pueden contener elementos de diferentes tipos de datos.\n",
        "\n",
        "*   **Diferencias:**\n",
        "    *   **Mutabilidad:** Listas y Diccionarios son mutables, Tuplas son inmutables.\n",
        "    *   **Orden:** Listas y Tuplas son ordenadas por índice, Diccionarios son ordenados por inserción a partir de Python 3.7 (antes desordenados) y acceden a los elementos por clave.\n",
        "    *   **Estructura:** Listas y Tuplas almacenan elementos, Diccionarios almacenan pares clave-valor.\n",
        "\n",
        "## Funciones en Python\n",
        "\n",
        "*   **Definición:** Son bloques de código reutilizables que realizan una tarea específica. Se definen usando la palabra clave `def`.\n",
        "*   **Utilidad:**\n",
        "    *   **Modularidad:** Permiten dividir un programa grande en partes más pequeñas y manejables.\n",
        "    *   **Reutilización de código:** Evitan la repetición de código.\n",
        "    *   **Organización:** Hacen que el código sea más legible y fácil de mantener.\n",
        "    *   **Abstracción:** Permiten ocultar los detalles de implementación y enfocarse en la tarea que realiza la función.\n",
        "    *   **Facilitan la depuración:** Es más fácil encontrar y corregir errores en funciones pequeñas."
      ]
    },
    {
      "cell_type": "markdown",
      "source": [
        "# Situación de Interés en Ingeniería Agrícola\n",
        " Un agrónomo consultor necesita una herramienta\n",
        " rápida para aconsejar a los agricultores sobre qué cultivos sembrar. Se requiere un programa que 1 almacene información de varios cultivos (nombre, mes ideal de siembra, necesidad de agua) y que, al ingresar el nombre de un mes, recomiende qué cultivos son adecuados para sembrar en ese período.\n",
        "\n",
        " Caso de Ingeniería Agrícola: Planificador de Cultivos (Listas y Funciones)\n",
        " • Paso a Paso del Código:\n",
        " 1. Crear una lista donde cada elemento sea un diccionario. Cada diccionario representará un\n",
        " cultivo y tendrá claves como nombre, mes_siembra y riego.\n",
        " 2. Crear una función llamada recomendar_cultivos. Esta función recibirá dos parámetros: la\n",
        " lista completa de cultivos y el mes actual.\n",
        " 3. Dentro de la función, usar un bucle for para recorrer la lista de cultivos.\n",
        " 4. En cada iteración, usar un if para comprobar si el mes_siembra del cultivo coincide con el mes\n",
        " proporcionado.\n",
        " 5. Si coinciden, añadir el nombre del cultivo a una nueva lista de recomendados.\n",
        " 6. Al final, la función debe devolver la lista de cultivos recomendados.\n",
        " 7. En el programa principal, pedir al usuario el mes y llamar a la función para obtener e imprimir\n",
        " las recomendaciones."
      ],
      "metadata": {
        "id": "hH2rBi8r1fl_"
      }
    },
    {
      "cell_type": "code",
      "metadata": {
        "colab": {
          "base_uri": "https://localhost:8080/"
        },
        "id": "25f4fb8a",
        "outputId": "b92be181-5714-4538-9008-4eb38843ffee"
      },
      "source": [
        "# 1. Crear una lista donde cada elemento sea un diccionario con información de cultivos.\n",
        "cultivos = [\n",
        "    {\"nombre\": \"Maíz\", \"mes_siembra\": \"Abril\", \"riego\": \"Alto\"},\n",
        "    {\"nombre\": \"Trigo\", \"mes_siembra\": \"Octubre\", \"riego\": \"Medio\"},\n",
        "    {\"nombre\": \"Girasol\", \"mes_siembra\": \"Marzo\", \"riego\": \"Medio\"},\n",
        "    {\"nombre\": \"Soja\", \"mes_siembra\": \"Noviembre\", \"riego\": \"Alto\"},\n",
        "    {\"nombre\": \"Arroz\", \"mes_siembra\": \"Mayo\", \"riego\": \"Muy Alto\"},\n",
        "    {\"nombre\": \"Cebada\", \"mes_siembra\": \"Septiembre\", \"riego\": \"Medio\"},\n",
        "    {\"nombre\": \"Algodón\", \"mes_siembra\": \"Mayo\", \"riego\": \"Alto\"},\n",
        "]\n",
        "\n",
        "# 2. Crear una función llamada recomendar_cultivos.\n",
        "def recomendar_cultivos(lista_cultivos, mes_actual):\n",
        "    \"\"\"\n",
        "    Recomienda cultivos adecuados para sembrar en un mes dado.\n",
        "\n",
        "    Args:\n",
        "        lista_cultivos: Lista de diccionarios con información de los cultivos.\n",
        "        mes_actual: Nombre del mes para el que se buscan recomendaciones.\n",
        "\n",
        "    Returns:\n",
        "        Una lista con los nombres de los cultivos recomendados para el mes dado.\n",
        "    \"\"\"\n",
        "    recomendados = []\n",
        "    # 3. Usar un bucle for para recorrer la lista de cultivos.\n",
        "    for cultivo in lista_cultivos:\n",
        "        # 4. Usar un if para comprobar si el mes_siembra coincide.\n",
        "        if cultivo[\"mes_siembra\"].lower() == mes_actual.lower():\n",
        "            # 5. Si coinciden, añadir el nombre del cultivo a la lista de recomendados.\n",
        "            recomendados.append(cultivo[\"nombre\"])\n",
        "    # 6. La función debe devolver la lista de cultivos recomendados.\n",
        "    return recomendados\n",
        "\n",
        "# 7. En el programa principal, pedir al usuario el mes y llamar a la función.\n",
        "mes_ingresado = input(\"Introduce el nombre del mes actual (ej. Enero): \")\n",
        "\n",
        "recomendaciones = recomendar_cultivos(cultivos, mes_ingresado)\n",
        "\n",
        "# Imprimir las recomendaciones.\n",
        "if recomendaciones:\n",
        "    print(f\"\\nCultivos recomendados para sembrar en {mes_ingresado}:\")\n",
        "    for cultivo_recomendado in recomendaciones:\n",
        "        print(f\"- {cultivo_recomendado}\")\n",
        "else:\n",
        "    print(f\"\\nNo hay cultivos recomendados para sembrar en {mes_ingresado} en nuestra base de datos.\")"
      ],
      "execution_count": 2,
      "outputs": [
        {
          "output_type": "stream",
          "name": "stdout",
          "text": [
            "Introduce el nombre del mes actual (ej. Enero): septiembre\n",
            "\n",
            "Cultivos recomendados para sembrar en septiembre:\n",
            "- Cebada\n"
          ]
        }
      ]
    },
    {
      "cell_type": "code",
      "source": [],
      "metadata": {
        "id": "YmUcGiOz2Ay_"
      },
      "execution_count": null,
      "outputs": []
    }
  ]
}