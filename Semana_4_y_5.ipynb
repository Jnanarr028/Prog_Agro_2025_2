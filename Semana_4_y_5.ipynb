{
  "nbformat": 4,
  "nbformat_minor": 0,
  "metadata": {
    "colab": {
      "provenance": [],
      "authorship_tag": "ABX9TyPoOCzSOCHFUDzvUC4mSFDV",
      "include_colab_link": true
    },
    "kernelspec": {
      "name": "python3",
      "display_name": "Python 3"
    },
    "language_info": {
      "name": "python"
    }
  },
  "cells": [
    {
      "cell_type": "markdown",
      "metadata": {
        "id": "view-in-github",
        "colab_type": "text"
      },
      "source": [
        "<a href=\"https://colab.research.google.com/github/Jnanarr028/Prog_Agro_2025_2/blob/main/Semana_4_y_5.ipynb\" target=\"_parent\"><img src=\"https://colab.research.google.com/assets/colab-badge.svg\" alt=\"Open In Colab\"/></a>"
      ]
    },
    {
      "cell_type": "code",
      "execution_count": null,
      "metadata": {
        "id": "kl5jbJ3JvkFe"
      },
      "outputs": [],
      "source": []
    },
    {
      "cell_type": "markdown",
      "metadata": {
        "id": "048fe747"
      },
      "source": [
        "## Funciones en Python\n",
        "\n",
        "*   **Definición:** Son bloques de código reutilizables que realizan una tarea específica. Se definen usando la palabra clave `def`.\n",
        "*   **Uso:** Las funciones se definen una vez y se pueden llamar (ejecutar) múltiples veces desde diferentes partes del programa. Esto evita tener que escribir el mismo código repetidamente. Las funciones pueden aceptar argumentos (valores de entrada) y devolver resultados (valores de salida).\n",
        "*   **Importancia:**\n",
        "    *   **Modularidad:** Permiten dividir un programa grande en partes más pequeñas y manejables, lo que facilita su comprensión y desarrollo.\n",
        "    *   **Reutilización de código:** Al definir una tarea en una función, puedes usarla en diferentes lugares sin reescribir el código.\n",
        "    *   **Organización:** Hacen que el código sea más legible y estructurado.\n",
        "    *   **Abstracción:** Permiten ocultar los detalles internos de una tarea y enfocarse en lo que la función hace.\n",
        "    *   **Facilitan la depuración:** Es más fácil encontrar y corregir errores en funciones pequeñas y específicas.\n",
        "    *   **Mantenimiento:** Modificar o actualizar una tarea es más sencillo si está encapsulada en una función."
      ]
    },
    {
      "cell_type": "markdown",
      "metadata": {
        "id": "250d3a78"
      },
      "source": [
        "## Listas, Tuplas y Diccionarios en Python\n",
        "\n",
        "### Listas (`list`)\n",
        "*   **Definición:** Son colecciones ordenadas y mutables de elementos. Pueden contener elementos de diferentes tipos de datos. Se definen usando corchetes `[]`.\n",
        "*   **Características:**\n",
        "    *   Ordenadas: Los elementos tienen un índice.\n",
        "    *   Mutables: Se pueden modificar (agregar, eliminar, cambiar elementos) después de su creación.\n",
        "    *   Permiten duplicados.\n",
        "\n",
        "### Tuplas (`tuple`)\n",
        "*   **Definición:** Son colecciones ordenadas e inmutables de elementos. Pueden contener elementos de diferentes tipos de datos. Se definen usando paréntesis `()`.\n",
        "*   **Características:**\n",
        "    *   Ordenadas: Los elementos tienen un índice.\n",
        "    *   Inmutables: No se pueden modificar después de su creación.\n",
        "    *   Permiten duplicados.\n",
        "\n",
        "### Diccionarios (`dict`)\n",
        "*   **Definición:** Son colecciones desordenadas y mutables de pares clave-valor. Cada clave debe ser única e inmutable. Se definen usando llaves `{}` con pares `clave: valor`.\n",
        "*   **Características:**\n",
        "    *   Desordenadas (en versiones anteriores a Python 3.7, a partir de 3.7 son ordenados por inserción).\n",
        "    *   Mutables: Se pueden modificar (agregar, eliminar, cambiar pares clave-valor).\n",
        "    *   Las claves son únicas.\n",
        "\n",
        "### Similitudes y Diferencias\n",
        "\n",
        "*   **Similitudes:**\n",
        "    *   Las listas y tuplas son colecciones ordenadas y acceden a los elementos por índice.\n",
        "    *   Las listas y diccionarios son mutables.\n",
        "    *   Las listas y tuplas permiten elementos duplicados.\n",
        "    *   Pueden contener elementos de diferentes tipos de datos.\n",
        "\n",
        "*   **Diferencias:**\n",
        "    *   **Mutabilidad:** Listas y Diccionarios son mutables, Tuplas son inmutables.\n",
        "    *   **Orden:** Listas y Tuplas son ordenadas por índice, Diccionarios son ordenados por inserción a partir de Python 3.7 (antes desordenados) y acceden a los elementos por clave.\n",
        "    *   **Estructura:** Listas y Tuplas almacenan elementos, Diccionarios almacenan pares clave-valor.\n",
        "\n",
        "## Funciones en Python\n",
        "\n",
        "*   **Definición:** Son bloques de código reutilizables que realizan una tarea específica. Se definen usando la palabra clave `def`.\n",
        "*   **Utilidad:**\n",
        "    *   **Modularidad:** Permiten dividir un programa grande en partes más pequeñas y manejables.\n",
        "    *   **Reutilización de código:** Evitan la repetición de código.\n",
        "    *   **Organización:** Hacen que el código sea más legible y fácil de mantener.\n",
        "    *   **Abstracción:** Permiten ocultar los detalles de implementación y enfocarse en la tarea que realiza la función.\n",
        "    *   **Facilitan la depuración:** Es más fácil encontrar y corregir errores en funciones pequeñas."
      ]
    }
  ]
}