{
  "nbformat": 4,
  "nbformat_minor": 0,
  "metadata": {
    "colab": {
      "provenance": [],
      "authorship_tag": "ABX9TyOA+8PEevABkdGQzf7f2fCl",
      "include_colab_link": true
    },
    "kernelspec": {
      "name": "python3",
      "display_name": "Python 3"
    },
    "language_info": {
      "name": "python"
    }
  },
  "cells": [
    {
      "cell_type": "markdown",
      "metadata": {
        "id": "view-in-github",
        "colab_type": "text"
      },
      "source": [
        "<a href=\"https://colab.research.google.com/github/Jnanarr028/Prog_Agro_2025_2/blob/main/Ejercicio_de_semana_2_y_3.ipynb\" target=\"_parent\"><img src=\"https://colab.research.google.com/assets/colab-badge.svg\" alt=\"Open In Colab\"/></a>"
      ]
    },
    {
      "cell_type": "markdown",
      "source": [
        "# Situación de Interés en Ingeniería Agrícola:\n",
        "1. Se está diseñando el software para un sistema de riego “inteligente”.\n",
        "2. El programa debe leer el nivel de humedad actual del suelo (un valor de 0 a 100)y decidir qué acción tomar:\n",
        "> no hacer nada\n",
        "> aplicar un riego ligero\n",
        "> aplicar un riego profundo, según umbrales predefinidos."
      ],
      "metadata": {
        "id": "5UPEf_pLxF4G"
      }
    },
    {
      "cell_type": "code",
      "execution_count": 4,
      "metadata": {
        "colab": {
          "base_uri": "https://localhost:8080/"
        },
        "id": "fGKkAJ3WvoFo",
        "outputId": "ba49e165-268e-4184-f858-8f0cca8cbcc4"
      },
      "outputs": [
        {
          "output_type": "stream",
          "name": "stdout",
          "text": [
            "Ingrese el nivel de humedad actual (en porcentaje): 20\n",
            "El suelo está seco. Es necesario riego.\n"
          ]
        }
      ],
      "source": [
        "# Caso de Ingeniería Agrícola: Lógica de Riego Inteligente (if/elif/else)\n",
        "# Definir los umbrales de humedad\n",
        "# (ej. por debajo de 30% es seco, entre 30% y 70% es óptimo, por encima de 70% es saturado).\n",
        "\n",
        "# Pedir al usuario el nivel de humedad actual.\n",
        "humedad_actual = float(input(\"Ingrese el nivel de humedad actual (en porcentaje): \"))\n",
        "if humedad_actual < 30:\n",
        "  print(\"El suelo está seco. Es necesario riego.\")\n",
        "elif 30 <= humedad_actual <= 70:\n",
        "  print(\"El suelo está óptimo. No es necesario riego.\")\n",
        "else:\n",
        "  print(\"El suelo está saturado. Es necesario aplicar drenaje.\")"
      ]
    },
    {
      "cell_type": "markdown",
      "source": [
        "# Situación de Interés en Ingeniería Agroindustrial\n",
        "1. En una línea de empaque de frutas, un sensor mide el peso de cada fruta.\n",
        "2. Se necesita un programa que analice una lista de pesos de un lote y cuente:\n",
        "> cuántas frutas cumplen con el estándar de “Exportación” (ej. > 250g)\n",
        "> cuántas son de “Mercado Nacional” (entre 150g y 250g)\n",
        "> cuántas se consideran “Rechazo” (< 150g)."
      ],
      "metadata": {
        "id": "_nrgGfco433Y"
      }
    },
    {
      "cell_type": "code",
      "source": [
        "# Clasificación de Lote (for loop)\n",
        "# Definir una lista con los pesos de las frutas del lote (para simular los datos del sensor).\n",
        "pesos = [100, 95, 150, 250, 200, 300, 200, 30, 300, 123, 251, 11, 260, 200, 400, 82, 192, 630, 56, 13, 236, 310]\n",
        "\n",
        "# Inicializar tres contadores en cero: exportacion, nacional y rechazo.\n",
        "exportacion = 0\n",
        "nacional = 0\n",
        "rechazo = 0\n",
        "\n",
        "# Iterar sobre la lista de pesos y clasificar cada fruta.\n",
        "for peso in pesos:\n",
        "  if peso > 250:\n",
        "    exportacion += 1\n",
        "  elif 150 <= peso <= 250:\n",
        "    nacional += 1\n",
        "  else:\n",
        "    rechazo += 1\n",
        "\n",
        "# Después de que el bucle termine, imprimir los totales de cada categoría.\n",
        "print(f\"Frutas en Exportación: {exportacion}\")\n",
        "print(f\"Frutas en Mercado Nacional: {nacional}\")\n",
        "print(f\"Frutas Rechazadas: {rechazo}\")"
      ],
      "metadata": {
        "colab": {
          "base_uri": "https://localhost:8080/"
        },
        "id": "yWKYlGtw6SKX",
        "outputId": "6136b425-ea94-4f85-d791-95c6328aba7b"
      },
      "execution_count": 5,
      "outputs": [
        {
          "output_type": "stream",
          "name": "stdout",
          "text": [
            "Frutas en Exportación: 7\n",
            "Frutas en Mercado Nacional: 7\n",
            "Frutas Rechazadas: 8\n"
          ]
        }
      ]
    }
  ]
}